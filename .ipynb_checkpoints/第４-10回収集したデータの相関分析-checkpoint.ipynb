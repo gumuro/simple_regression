{
 "cells": [
  {
   "cell_type": "code",
   "execution_count": 2,
   "id": "1cb8c4ef",
   "metadata": {},
   "outputs": [],
   "source": [
    "import numpy as np \n",
    "import pandas as pd\n",
    "import matplotlib.pyplot as plt\n",
    "from scipy.stats import pearsonr"
   ]
  },
  {
   "cell_type": "markdown",
   "id": "49bb6323",
   "metadata": {},
   "source": [
    "## 問題設定"
   ]
  },
  {
   "cell_type": "markdown",
   "id": "dc0d37b6",
   "metadata": {},
   "source": [
    "ドイツは毎年の平均値温度が上がると、ブドウの生産量が増えると思われる。\n",
    "そこで、温度が上がることによるブドウの生産量が増えるのかを検証したい。\n",
    "つまり、ドイツの温度をブドウの生産量によって説明したい。"
   ]
  },
  {
   "cell_type": "code",
   "execution_count": 3,
   "id": "a95d251c",
   "metadata": {},
   "outputs": [
    {
     "data": {
      "text/html": [
       "<div>\n",
       "<style scoped>\n",
       "    .dataframe tbody tr th:only-of-type {\n",
       "        vertical-align: middle;\n",
       "    }\n",
       "\n",
       "    .dataframe tbody tr th {\n",
       "        vertical-align: top;\n",
       "    }\n",
       "\n",
       "    .dataframe thead th {\n",
       "        text-align: right;\n",
       "    }\n",
       "</style>\n",
       "<table border=\"1\" class=\"dataframe\">\n",
       "  <thead>\n",
       "    <tr style=\"text-align: right;\">\n",
       "      <th></th>\n",
       "      <th>year</th>\n",
       "      <th>avg_temp</th>\n",
       "      <th>yield</th>\n",
       "    </tr>\n",
       "  </thead>\n",
       "  <tbody>\n",
       "    <tr>\n",
       "      <th>0</th>\n",
       "      <td>2001</td>\n",
       "      <td>14.0</td>\n",
       "      <td>74.9</td>\n",
       "    </tr>\n",
       "    <tr>\n",
       "      <th>1</th>\n",
       "      <td>2002</td>\n",
       "      <td>13.5</td>\n",
       "      <td>93.0</td>\n",
       "    </tr>\n",
       "    <tr>\n",
       "      <th>2</th>\n",
       "      <td>2003</td>\n",
       "      <td>13.5</td>\n",
       "      <td>79.2</td>\n",
       "    </tr>\n",
       "    <tr>\n",
       "      <th>3</th>\n",
       "      <td>2004</td>\n",
       "      <td>13.4</td>\n",
       "      <td>92.2</td>\n",
       "    </tr>\n",
       "    <tr>\n",
       "      <th>4</th>\n",
       "      <td>2005</td>\n",
       "      <td>14.3</td>\n",
       "      <td>77.9</td>\n",
       "    </tr>\n",
       "    <tr>\n",
       "      <th>5</th>\n",
       "      <td>2006</td>\n",
       "      <td>14.5</td>\n",
       "      <td>77.2</td>\n",
       "    </tr>\n",
       "    <tr>\n",
       "      <th>6</th>\n",
       "      <td>2007</td>\n",
       "      <td>14.0</td>\n",
       "      <td>99.1</td>\n",
       "    </tr>\n",
       "    <tr>\n",
       "      <th>7</th>\n",
       "      <td>2008</td>\n",
       "      <td>13.0</td>\n",
       "      <td>93.1</td>\n",
       "    </tr>\n",
       "    <tr>\n",
       "      <th>8</th>\n",
       "      <td>2009</td>\n",
       "      <td>13.9</td>\n",
       "      <td>82.0</td>\n",
       "    </tr>\n",
       "    <tr>\n",
       "      <th>9</th>\n",
       "      <td>2010</td>\n",
       "      <td>13.0</td>\n",
       "      <td>58.4</td>\n",
       "    </tr>\n",
       "    <tr>\n",
       "      <th>10</th>\n",
       "      <td>2011</td>\n",
       "      <td>14.3</td>\n",
       "      <td>82.8</td>\n",
       "    </tr>\n",
       "    <tr>\n",
       "      <th>11</th>\n",
       "      <td>2012</td>\n",
       "      <td>14.0</td>\n",
       "      <td>88.8</td>\n",
       "    </tr>\n",
       "    <tr>\n",
       "      <th>12</th>\n",
       "      <td>2013</td>\n",
       "      <td>12.9</td>\n",
       "      <td>68.7</td>\n",
       "    </tr>\n",
       "    <tr>\n",
       "      <th>13</th>\n",
       "      <td>2014</td>\n",
       "      <td>14.3</td>\n",
       "      <td>85.3</td>\n",
       "    </tr>\n",
       "    <tr>\n",
       "      <th>14</th>\n",
       "      <td>2015</td>\n",
       "      <td>13.7</td>\n",
       "      <td>78.0</td>\n",
       "    </tr>\n",
       "    <tr>\n",
       "      <th>15</th>\n",
       "      <td>2016</td>\n",
       "      <td>13.5</td>\n",
       "      <td>83.4</td>\n",
       "    </tr>\n",
       "    <tr>\n",
       "      <th>16</th>\n",
       "      <td>2017</td>\n",
       "      <td>14.5</td>\n",
       "      <td>65.4</td>\n",
       "    </tr>\n",
       "    <tr>\n",
       "      <th>17</th>\n",
       "      <td>2018</td>\n",
       "      <td>15.0</td>\n",
       "      <td>104.7</td>\n",
       "    </tr>\n",
       "  </tbody>\n",
       "</table>\n",
       "</div>"
      ],
      "text/plain": [
       "    year   avg_temp   yield\n",
       "0   2001       14.0    74.9\n",
       "1   2002       13.5    93.0\n",
       "2   2003       13.5    79.2\n",
       "3   2004       13.4    92.2\n",
       "4   2005       14.3    77.9\n",
       "5   2006       14.5    77.2\n",
       "6   2007       14.0    99.1\n",
       "7   2008       13.0    93.1\n",
       "8   2009       13.9    82.0\n",
       "9   2010       13.0    58.4\n",
       "10  2011       14.3    82.8\n",
       "11  2012       14.0    88.8\n",
       "12  2013       12.9    68.7\n",
       "13  2014       14.3    85.3\n",
       "14  2015       13.7    78.0\n",
       "15  2016       13.5    83.4\n",
       "16  2017       14.5    65.4\n",
       "17  2018       15.0   104.7"
      ]
     },
     "execution_count": 3,
     "metadata": {},
     "output_type": "execute_result"
    }
   ],
   "source": [
    "df = pd.read_csv(\"C:/Users/koyama/Downloads/応用統計1/simple_regression/RieslingYield_vs_avgTemp_no_comment.csv\",encoding = 'utf-8')\n",
    "df"
   ]
  },
  {
   "cell_type": "code",
   "execution_count": 4,
   "id": "fc408218",
   "metadata": {},
   "outputs": [
    {
     "data": {
      "text/html": [
       "<div>\n",
       "<style scoped>\n",
       "    .dataframe tbody tr th:only-of-type {\n",
       "        vertical-align: middle;\n",
       "    }\n",
       "\n",
       "    .dataframe tbody tr th {\n",
       "        vertical-align: top;\n",
       "    }\n",
       "\n",
       "    .dataframe thead th {\n",
       "        text-align: right;\n",
       "    }\n",
       "</style>\n",
       "<table border=\"1\" class=\"dataframe\">\n",
       "  <thead>\n",
       "    <tr style=\"text-align: right;\">\n",
       "      <th></th>\n",
       "      <th>yield</th>\n",
       "      <th>avg_temp</th>\n",
       "    </tr>\n",
       "  </thead>\n",
       "  <tbody>\n",
       "    <tr>\n",
       "      <th>count</th>\n",
       "      <td>18.000000</td>\n",
       "      <td>18.000000</td>\n",
       "    </tr>\n",
       "    <tr>\n",
       "      <th>mean</th>\n",
       "      <td>82.450000</td>\n",
       "      <td>13.850000</td>\n",
       "    </tr>\n",
       "    <tr>\n",
       "      <th>std</th>\n",
       "      <td>11.721135</td>\n",
       "      <td>0.583347</td>\n",
       "    </tr>\n",
       "    <tr>\n",
       "      <th>min</th>\n",
       "      <td>58.400000</td>\n",
       "      <td>12.900000</td>\n",
       "    </tr>\n",
       "    <tr>\n",
       "      <th>25%</th>\n",
       "      <td>77.375000</td>\n",
       "      <td>13.500000</td>\n",
       "    </tr>\n",
       "    <tr>\n",
       "      <th>50%</th>\n",
       "      <td>82.400000</td>\n",
       "      <td>13.950000</td>\n",
       "    </tr>\n",
       "    <tr>\n",
       "      <th>75%</th>\n",
       "      <td>91.350000</td>\n",
       "      <td>14.300000</td>\n",
       "    </tr>\n",
       "    <tr>\n",
       "      <th>max</th>\n",
       "      <td>104.700000</td>\n",
       "      <td>15.000000</td>\n",
       "    </tr>\n",
       "  </tbody>\n",
       "</table>\n",
       "</div>"
      ],
      "text/plain": [
       "            yield   avg_temp\n",
       "count   18.000000  18.000000\n",
       "mean    82.450000  13.850000\n",
       "std     11.721135   0.583347\n",
       "min     58.400000  12.900000\n",
       "25%     77.375000  13.500000\n",
       "50%     82.400000  13.950000\n",
       "75%     91.350000  14.300000\n",
       "max    104.700000  15.000000"
      ]
     },
     "execution_count": 4,
     "metadata": {},
     "output_type": "execute_result"
    }
   ],
   "source": [
    "df[[\" yield\",\" avg_temp\"]].describe()"
   ]
  },
  {
   "cell_type": "code",
   "execution_count": 5,
   "id": "8ba9db4c",
   "metadata": {},
   "outputs": [],
   "source": [
    "y = df[\" yield\"]"
   ]
  },
  {
   "cell_type": "code",
   "execution_count": 6,
   "id": "f5125e9a",
   "metadata": {},
   "outputs": [],
   "source": [
    "x = df[\" avg_temp\"]"
   ]
  },
  {
   "cell_type": "code",
   "execution_count": 7,
   "id": "7f4db01b",
   "metadata": {},
   "outputs": [
    {
     "data": {
      "text/plain": [
       "<matplotlib.collections.PathCollection at 0x285c01482b0>"
      ]
     },
     "execution_count": 7,
     "metadata": {},
     "output_type": "execute_result"
    },
    {
     "data": {
      "image/png": "[encoded data removed]",
      "text/plain": [
       "<Figure size 640x480 with 1 Axes>"
      ]
     },
     "metadata": {},
     "output_type": "display_data"
    }
   ],
   "source": [
    "plt.scatter(x, y)"
   ]
  },
  {
   "cell_type": "markdown",
   "id": "fc855010",
   "metadata": {},
   "source": [
    "特筆すべき点:x=13,y=6. x = 7,y = 69. x = 15 ,y = 100"
   ]
  },
  {
   "cell_type": "code",
   "execution_count": 8,
   "id": "795b71ee",
   "metadata": {},
   "outputs": [],
   "source": [
    "p_s = 0.05"
   ]
  },
  {
   "cell_type": "code",
   "execution_count": 9,
   "id": "2ed6a449",
   "metadata": {},
   "outputs": [],
   "source": [
    "r,p = pearsonr(x,y)"
   ]
  },
  {
   "cell_type": "code",
   "execution_count": 10,
   "id": "ce0d42c6",
   "metadata": {},
   "outputs": [
    {
     "name": "stdout",
     "output_type": "stream",
     "text": [
      "0.2634694689048738 0.2908003718856653\n"
     ]
    }
   ],
   "source": [
    "print(r,p)"
   ]
  },
  {
   "cell_type": "code",
   "execution_count": 11,
   "id": "a732e111",
   "metadata": {},
   "outputs": [
    {
     "name": "stdout",
     "output_type": "stream",
     "text": [
      "気温 と ブドウの生産量 には相関がない可能性を排除できなかった。\n"
     ]
    }
   ],
   "source": [
    "if p < p_s :\n",
    "    print(f\"気温 と ブドウの生産量 には相関があり、相関係数は{r}であった。\")\n",
    "elif p >= p_s:\n",
    "    print(f\"気温 と ブドウの生産量 には相関がない可能性を排除できなかった。\")"
   ]
  },
  {
   "cell_type": "code",
   "execution_count": 12,
   "id": "84adce15",
   "metadata": {},
   "outputs": [
    {
     "data": {
      "text/plain": [
       "<matplotlib.collections.PathCollection at 0x285c0a18400>"
      ]
     },
     "execution_count": 12,
     "metadata": {},
     "output_type": "execute_result"
    },
    {
     "data": {
      "image/png": "[encoded data removed]",
      "text/plain": [
       "<Figure size 640x480 with 1 Axes>"
      ]
     },
     "metadata": {},
     "output_type": "display_data"
    }
   ],
   "source": [
    "# 散布図の描画\n",
    "plt.scatter(x, y, alpha=0.5)"
   ]
  },
  {
   "cell_type": "code",
   "execution_count": 13,
   "id": "6c367b6a",
   "metadata": {},
   "outputs": [],
   "source": [
    "# 切片と傾きの設定 (自分で良さそうな値を考える)\n",
    "beta_0 = 20\n",
    "beta_1 = 5"
   ]
  },
  {
   "cell_type": "code",
   "execution_count": 14,
   "id": "25f377c8",
   "metadata": {},
   "outputs": [
    {
     "data": {
      "image/png": "[encoded data removed]",
      "text/plain": [
       "<Figure size 640x480 with 1 Axes>"
      ]
     },
     "metadata": {},
     "output_type": "display_data"
    }
   ],
   "source": [
    "# モデル式の描画\n",
    "y_est = beta_0 + beta_1 * x\n",
    "plt.scatter(x, y, alpha=0.5)\n",
    "plt.plot(x, y_est, c=\"r\")\n",
    "plt.show()"
   ]
  },
  {
   "cell_type": "code",
   "execution_count": 15,
   "id": "75baff7b",
   "metadata": {},
   "outputs": [],
   "source": [
    "# 誤差の計算\n",
    "resid = y_est - y"
   ]
  },
  {
   "cell_type": "code",
   "execution_count": 16,
   "id": "0bbca42a",
   "metadata": {},
   "outputs": [
    {
     "data": {
      "image/png": "[encoded data removed]",
      "text/plain": [
       "<Figure size 640x480 with 1 Axes>"
      ]
     },
     "metadata": {},
     "output_type": "display_data"
    }
   ],
   "source": [
    "# 誤差の可視化\n",
    "plt.scatter(x, resid, alpha=0.5)\n",
    "plt.show()"
   ]
  },
  {
   "cell_type": "code",
   "execution_count": 17,
   "id": "6eb71aaf",
   "metadata": {},
   "outputs": [
    {
     "data": {
      "text/plain": [
       "3006.24"
      ]
     },
     "execution_count": 17,
     "metadata": {},
     "output_type": "execute_result"
    }
   ],
   "source": [
    "# 誤差の2乗和の評価 (この値が小さくなるよう、切片と傾きを変えて何回も試す)\n",
    "np.sum(resid**2)"
   ]
  },
  {
   "cell_type": "code",
   "execution_count": 18,
   "id": "bd58aca1",
   "metadata": {},
   "outputs": [],
   "source": [
    "# 実行結果の記録, リスト内に最新の設定値と結果をカンマ区切りで追加していく\n",
    "log = {\n",
    "    \"切片\":[20,2,20,18,20,20,16,14,10,10,13,14,12.5,10.75,10.2],\n",
    "    \"傾き\":[5,1,1,0.5,0.5,1,1,1,1,1,1,1,1,1,1],\n",
    "    \"誤差２乗和\":[3006.24,82120.16,3285,84229,66987,4010,2654,1070,1205,869,842,909,843.75,839.9375,839.879]\n",
    "    }"
   ]
  },
  {
   "cell_type": "code",
   "execution_count": 19,
   "id": "ef4c1faa",
   "metadata": {},
   "outputs": [],
   "source": [
    "# 準備\n",
    "import statsmodels.api as sm"
   ]
  },
  {
   "cell_type": "code",
   "execution_count": 20,
   "id": "2ce810eb",
   "metadata": {},
   "outputs": [],
   "source": [
    "# 回帰分析の実行\n",
    "# 切片を推定するための定数項を追加\n",
    "X = sm.add_constant(x) # 左辺は大文字"
   ]
  },
  {
   "cell_type": "code",
   "execution_count": 21,
   "id": "9589e469",
   "metadata": {},
   "outputs": [],
   "source": [
    "# 回帰分析モデルへのデータの投入\n",
    "model = sm.OLS(y, X)"
   ]
  },
  {
   "cell_type": "code",
   "execution_count": 22,
   "id": "8c969bbd",
   "metadata": {},
   "outputs": [],
   "source": [
    "# 回帰分析モデルによる係数の推定の実行\n",
    "res = model.fit()"
   ]
  },
  {
   "cell_type": "code",
   "execution_count": 23,
   "id": "3a281856",
   "metadata": {},
   "outputs": [],
   "source": [
    "# 切片と傾きの取得\n",
    "beta0_est, beta1_est = res.params"
   ]
  },
  {
   "cell_type": "code",
   "execution_count": 24,
   "id": "a8fa1fc4",
   "metadata": {},
   "outputs": [],
   "source": [
    "# モデル式の描画\n",
    "# モデル式による目的変数の推定結果を取得\n",
    "y_est = beta0_est + beta1_est*x"
   ]
  },
  {
   "cell_type": "code",
   "execution_count": 25,
   "id": "33ce38c8",
   "metadata": {},
   "outputs": [
    {
     "data": {
      "image/png": "[encoded data removed]",
      "text/plain": [
       "<Figure size 640x480 with 1 Axes>"
      ]
     },
     "metadata": {},
     "output_type": "display_data"
    }
   ],
   "source": [
    "# 散布図とモデルの推定結果を描画\n",
    "plt.scatter(x, y, alpha=0.5)\n",
    "plt.plot(x,y_est,c=\"r\")\n",
    "plt.show()"
   ]
  },
  {
   "cell_type": "code",
   "execution_count": 33,
   "id": "91a561d0",
   "metadata": {},
   "outputs": [],
   "source": [
    "# 誤差の計算\n",
    "resid = y_est - y"
   ]
  },
  {
   "cell_type": "code",
   "execution_count": 34,
   "id": "9d3c1651",
   "metadata": {},
   "outputs": [
    {
     "data": {
      "image/png": "[encoded data removed]",
      "text/plain": [
       "<Figure size 640x480 with 1 Axes>"
      ]
     },
     "metadata": {},
     "output_type": "display_data"
    }
   ],
   "source": [
    "# 誤差の可視化\n",
    "plt.scatter(x, resid, alpha=0.5)\n",
    "plt.show()"
   ]
  },
  {
   "cell_type": "code",
   "execution_count": 35,
   "id": "5876433e",
   "metadata": {},
   "outputs": [
    {
     "data": {
      "text/plain": [
       "2173.420432152117"
      ]
     },
     "execution_count": 35,
     "metadata": {},
     "output_type": "execute_result"
    }
   ],
   "source": [
    "# 誤差の2乗和の評価\n",
    "np.sum(resid**2)"
   ]
  },
  {
   "cell_type": "code",
   "execution_count": 36,
   "id": "2982fee9",
   "metadata": {},
   "outputs": [
    {
     "data": {
      "text/html": [
       "<div>\n",
       "<style scoped>\n",
       "    .dataframe tbody tr th:only-of-type {\n",
       "        vertical-align: middle;\n",
       "    }\n",
       "\n",
       "    .dataframe tbody tr th {\n",
       "        vertical-align: top;\n",
       "    }\n",
       "\n",
       "    .dataframe thead th {\n",
       "        text-align: right;\n",
       "    }\n",
       "</style>\n",
       "<table border=\"1\" class=\"dataframe\">\n",
       "  <thead>\n",
       "    <tr style=\"text-align: right;\">\n",
       "      <th></th>\n",
       "      <th>year</th>\n",
       "      <th>avg_temp</th>\n",
       "      <th>yield</th>\n",
       "    </tr>\n",
       "  </thead>\n",
       "  <tbody>\n",
       "    <tr>\n",
       "      <th>count</th>\n",
       "      <td>18.000000</td>\n",
       "      <td>18.000000</td>\n",
       "      <td>18.000000</td>\n",
       "    </tr>\n",
       "    <tr>\n",
       "      <th>mean</th>\n",
       "      <td>2009.500000</td>\n",
       "      <td>13.850000</td>\n",
       "      <td>82.450000</td>\n",
       "    </tr>\n",
       "    <tr>\n",
       "      <th>std</th>\n",
       "      <td>5.338539</td>\n",
       "      <td>0.583347</td>\n",
       "      <td>11.721135</td>\n",
       "    </tr>\n",
       "    <tr>\n",
       "      <th>min</th>\n",
       "      <td>2001.000000</td>\n",
       "      <td>12.900000</td>\n",
       "      <td>58.400000</td>\n",
       "    </tr>\n",
       "    <tr>\n",
       "      <th>25%</th>\n",
       "      <td>2005.250000</td>\n",
       "      <td>13.500000</td>\n",
       "      <td>77.375000</td>\n",
       "    </tr>\n",
       "    <tr>\n",
       "      <th>50%</th>\n",
       "      <td>2009.500000</td>\n",
       "      <td>13.950000</td>\n",
       "      <td>82.400000</td>\n",
       "    </tr>\n",
       "    <tr>\n",
       "      <th>75%</th>\n",
       "      <td>2013.750000</td>\n",
       "      <td>14.300000</td>\n",
       "      <td>91.350000</td>\n",
       "    </tr>\n",
       "    <tr>\n",
       "      <th>max</th>\n",
       "      <td>2018.000000</td>\n",
       "      <td>15.000000</td>\n",
       "      <td>104.700000</td>\n",
       "    </tr>\n",
       "  </tbody>\n",
       "</table>\n",
       "</div>"
      ],
      "text/plain": [
       "              year   avg_temp       yield\n",
       "count    18.000000  18.000000   18.000000\n",
       "mean   2009.500000  13.850000   82.450000\n",
       "std       5.338539   0.583347   11.721135\n",
       "min    2001.000000  12.900000   58.400000\n",
       "25%    2005.250000  13.500000   77.375000\n",
       "50%    2009.500000  13.950000   82.400000\n",
       "75%    2013.750000  14.300000   91.350000\n",
       "max    2018.000000  15.000000  104.700000"
      ]
     },
     "execution_count": 36,
     "metadata": {},
     "output_type": "execute_result"
    }
   ],
   "source": [
    "# データの分布の確認\n",
    "df.describe()\n"
   ]
  },
  {
   "cell_type": "code",
   "execution_count": 37,
   "id": "85949a8f",
   "metadata": {},
   "outputs": [
    {
     "name": "stdout",
     "output_type": "stream",
     "text": [
      "                            OLS Regression Results                            \n",
      "==============================================================================\n",
      "Dep. Variable:                  yield   R-squared:                       0.069\n",
      "Model:                            OLS   Adj. R-squared:                  0.011\n",
      "Method:                 Least Squares   F-statistic:                     1.194\n",
      "Date:                Fri, 25 Nov 2022   Prob (F-statistic):              0.291\n",
      "Time:                        09:58:09   Log-Likelihood:                -68.684\n",
      "No. Observations:                  18   AIC:                             141.4\n",
      "Df Residuals:                      16   BIC:                             143.1\n",
      "Df Model:                           1                                         \n",
      "Covariance Type:            nonrobust                                         \n",
      "==============================================================================\n",
      "                 coef    std err          t      P>|t|      [0.025      0.975]\n",
      "------------------------------------------------------------------------------\n",
      "const          9.1300     67.170      0.136      0.894    -133.263     151.523\n",
      " avg_temp      5.2939      4.846      1.092      0.291      -4.979      15.566\n",
      "==============================================================================\n",
      "Omnibus:                        0.454   Durbin-Watson:                   2.290\n",
      "Prob(Omnibus):                  0.797   Jarque-Bera (JB):                0.547\n",
      "Skew:                          -0.117   Prob(JB):                        0.761\n",
      "Kurtosis:                       2.178   Cond. No.                         341.\n",
      "==============================================================================\n",
      "\n",
      "Notes:\n",
      "[1] Standard Errors assume that the covariance matrix of the errors is correctly specified.\n"
     ]
    },
    {
     "name": "stderr",
     "output_type": "stream",
     "text": [
      "C:\\Users\\koyama\\miniconda3\\lib\\site-packages\\scipy\\stats\\stats.py:1541: UserWarning: kurtosistest only valid for n>=20 ... continuing anyway, n=18\n",
      "  warnings.warn(\"kurtosistest only valid for n>=20 ... continuing \"\n"
     ]
    }
   ],
   "source": [
    "# 分析結果の表示\n",
    "print(res.summary())"
   ]
  },
  {
   "cell_type": "markdown",
   "id": "8e496574",
   "metadata": {},
   "source": []
  },
  {
   "cell_type": "markdown",
   "id": "693e3abe",
   "metadata": {},
   "source": [
    "目的変数　y(ブドウの生産量）に対する説明変数　x(毎年の気温の平均値）の単回帰係数の推定値は　5.3　であった。\n",
    "\n",
    "すなわち、毎年の気温の平均値　が　１℃　増加すると　ブドウの生産量　は 5.3　ヘクタール　増加　する。\n",
    "\n",
    "これは、気温の変化はブドウの生産量に影響を与えるからだと思われる。"
   ]
  },
  {
   "cell_type": "markdown",
   "id": "f283efbf",
   "metadata": {},
   "source": [
    "また、切片の推定値は　9.1　であった。\n",
    "\n",
    "すなわち、毎年の気温の平均値 が0が含まれない。\n"
   ]
  },
  {
   "cell_type": "markdown",
   "id": "53779917",
   "metadata": {},
   "source": [
    "ただし、上記の議論は 毎年の気温の平均値 が 12.9℃ から15.0℃ の範囲でのみ有効である。\n",
    "\n",
    "また、ブドウの生産 と 毎年の気温の平均値 の関係性は必ずしも因果を説明している訳ではない。\n",
    "\n",
    "すなわち、ブドウの生産量 を増やすために 毎年の気温の平均値を操作する事が意味をなさない場合がある。\n",
    "\n",
    "また、この分析では 毎年の気温の平均値 の他に ブドウの生産量 と関係を持つ要因を一切考慮していない。\n",
    "\n",
    "すなわち、データに加えられていない何らかの要因によって、毎年の気温の平均値 と ブドウの生産量　に擬似的な相\n",
    "\n",
    "関関係が生じている可能性を否定できない。"
   ]
  },
  {
   "cell_type": "markdown",
   "id": "42a1dc19",
   "metadata": {},
   "source": [
    "切片のp値\n",
    "  0.894\n",
    "  5%で有意じゃない"
   ]
  },
  {
   "cell_type": "markdown",
   "id": "684e602d",
   "metadata": {},
   "source": [
    "切片の95%信頼区間\n",
    "  [-133.263     151.523]の範囲\n",
    "  0を含まるので有意じゃない"
   ]
  },
  {
   "cell_type": "markdown",
   "id": "599d5257",
   "metadata": {},
   "source": [
    "傾きのp値\n",
    " 0.291\n",
    " 5%以下で有意じゃない"
   ]
  },
  {
   "cell_type": "markdown",
   "id": "b9cdb3c7",
   "metadata": {},
   "source": [
    "傾きの95%信頼区間\n",
    " [-4.979      15.566]の範囲\n",
    " 0を含まるので有意じゃない"
   ]
  },
  {
   "cell_type": "markdown",
   "id": "e8dd326f",
   "metadata": {},
   "source": [
    "目的変数　ブドウの生産量　に対する説明変数　毎年の気温の平均値　の回帰係数は 5%の有意水準ではゼロである可能性を棄却できない。毎年の気温の平均値　は　ブドウの生産量　と相関を持つと言い切ることができない。\n",
    "\n",
    "また、回帰係数の95%信頼区間は [-4.979      15.566]の範囲であり、この範囲内に傾きの真値が存在すると考えることが整合的である。"
   ]
  },
  {
   "cell_type": "markdown",
   "id": "ed6723bc",
   "metadata": {},
   "source": [
    "問題１　：単位　"
   ]
  },
  {
   "cell_type": "code",
   "execution_count": 38,
   "id": "6091994c",
   "metadata": {},
   "outputs": [
    {
     "data": {
      "image/png": "[encoded data removed]",
      "text/plain": [
       "<Figure size 640x480 with 1 Axes>"
      ]
     },
     "metadata": {},
     "output_type": "display_data"
    }
   ],
   "source": [
    "#第9回\n",
    "#自分で収集したデータを利用した回帰モデルについて、予測値と観測値の残差から性能を評価する。\n",
    "# 誤差のヒストグラムを描画\n",
    "plt.hist(resid)\n",
    "plt.show()"
   ]
  },
  {
   "cell_type": "code",
   "execution_count": 39,
   "id": "d94b6066",
   "metadata": {},
   "outputs": [
    {
     "data": {
      "image/png": "[encoded data removed]",
      "text/plain": [
       "<Figure size 640x480 with 1 Axes>"
      ]
     },
     "metadata": {},
     "output_type": "display_data"
    }
   ],
   "source": [
    "# 残差プロットを描画\n",
    "plt.scatter(y_est,resid)\n",
    "plt.show()"
   ]
  },
  {
   "cell_type": "code",
   "execution_count": 40,
   "id": "f6d0e103",
   "metadata": {},
   "outputs": [],
   "source": [
    "# QQプロットの描画関数をインポート\n",
    "from scipy.stats import probplot \n"
   ]
  },
  {
   "cell_type": "code",
   "execution_count": 42,
   "id": "1feace23",
   "metadata": {},
   "outputs": [
    {
     "data": {
      "image/png": "[encoded data removed]",
      "text/plain": [
       "<Figure size 640x480 with 1 Axes>"
      ]
     },
     "metadata": {},
     "output_type": "display_data"
    }
   ],
   "source": [
    "# QQプロットの描画範囲を設定\n",
    "ax = plt.subplot()\n",
    "# QQプロットを描画\n",
    "probplot(resid,plot=ax)\n",
    "plt.show()"
   ]
  },
  {
   "cell_type": "markdown",
   "id": "44034a61",
   "metadata": {},
   "source": [
    "残差のヒストグラムを見ると左右 非対称 であり、複数の 山を持つ つりがね型と言えない 形状をするため、正規分布 と異なる 形状をしている事が分かる。\n",
    "\n",
    "残差プロットを見ると目的変数の推定値は残差 に依存している ため、独立であると 言うことはできない。\n",
    "\n",
    "QQプロットを見るとデータ点が直線 から大きくはずれる ため、正規分布 と異なる 形状をしている事が分かる。\n",
    "\n",
    "以上の事から、今回の回帰分析モデルは誤差が独立な正規分布から発生しているという前提を 満たさない と判断される。"
   ]
  },
  {
   "cell_type": "code",
   "execution_count": 45,
   "id": "bf4f0714",
   "metadata": {},
   "outputs": [
    {
     "data": {
      "text/plain": [
       "10.988429349274924"
      ]
     },
     "execution_count": 45,
     "metadata": {},
     "output_type": "execute_result"
    }
   ],
   "source": [
    "#第10回\n",
    "#自分で収集したデータを利用した回帰モデルについて、モデルの当てはまりの良さを評価する。\n",
    "# 予測誤差を確認\n",
    "# RMSEを計算する関数を読み込み\n",
    "from statsmodels.tools.eval_measures import rmse\n",
    "# RMSEを計算\n",
    "rmse(y,y_est)"
   ]
  },
  {
   "cell_type": "markdown",
   "id": "1dcc8cfd",
   "metadata": {},
   "source": [
    "RMSEは 10.9884 ヘクタール であり、目的変数の推定値は真値に比べ平均的に 10.9884 ヘクタール  程度の差がある。\n",
    "\n",
    "決定係数は 0.069 であり、モデルによる目的変数の推定値によって、単純に目的変数を平均値で推定することに比べて、変動が 6.9% 小さくなる。\n",
    "\n",
    "F検定のp値は 0.291 であり、有意水準 5% で 回帰係数が全て0であるの可能性がある ため、回帰分析モデルがデータに適合して いない可能性を排除できない。また, AICは 141.4 であった。\n"
   ]
  },
  {
   "cell_type": "code",
   "execution_count": null,
   "id": "66aee391",
   "metadata": {},
   "outputs": [],
   "source": []
  }
 ],
 "metadata": {
  "kernelspec": {
   "display_name": "Python 3 (ipykernel)",
   "language": "python",
   "name": "python3"
  },
  "language_info": {
   "codemirror_mode": {
    "name": "ipython",
    "version": 3
   },
   "file_extension": ".py",
   "mimetype": "text/x-python",
   "name": "python",
   "nbconvert_exporter": "python",
   "pygments_lexer": "ipython3",
   "version": "3.9.13"
  }
 },
 "nbformat": 4,
 "nbformat_minor": 5
}
