{
 "cells": [
  {
   "cell_type": "markdown",
   "id": "3c818886",
   "metadata": {},
   "source": [
    "データ取得をしたwebページ:\n",
    "https://www.kaggle.com/datasets/bartvh/grape-yield-vs-avg-growing-season-temperature\n",
    "\n",
    "データについて内容：2001年から2018年までドイツの気温とブドウの生産量です。\n"
   ]
  },
  {
   "cell_type": "markdown",
   "id": "9d93e960",
   "metadata": {},
   "source": [
    "目的変数：ブドウの生産量\n",
    "\n",
    "\n",
    "説明変数：ドイツ毎年の平均値気温"
   ]
  },
  {
   "cell_type": "markdown",
   "id": "4d69139c",
   "metadata": {},
   "source": [
    "気温が上がると、ブドウの生産量も上がる。"
   ]
  },
  {
   "cell_type": "markdown",
   "id": "f42a49c1",
   "metadata": {},
   "source": [
    "データの内容："
   ]
  },
  {
   "cell_type": "code",
   "execution_count": 3,
   "id": "e989292f",
   "metadata": {},
   "outputs": [],
   "source": [
    "import pandas as pd"
   ]
  },
  {
   "cell_type": "code",
   "execution_count": 4,
   "id": "60135b2d",
   "metadata": {},
   "outputs": [
    {
     "data": {
      "text/html": [
       "<div>\n",
       "<style scoped>\n",
       "    .dataframe tbody tr th:only-of-type {\n",
       "        vertical-align: middle;\n",
       "    }\n",
       "\n",
       "    .dataframe tbody tr th {\n",
       "        vertical-align: top;\n",
       "    }\n",
       "\n",
       "    .dataframe thead th {\n",
       "        text-align: right;\n",
       "    }\n",
       "</style>\n",
       "<table border=\"1\" class=\"dataframe\">\n",
       "  <thead>\n",
       "    <tr style=\"text-align: right;\">\n",
       "      <th></th>\n",
       "      <th>year</th>\n",
       "      <th>avg_temp</th>\n",
       "      <th>yield</th>\n",
       "    </tr>\n",
       "  </thead>\n",
       "  <tbody>\n",
       "    <tr>\n",
       "      <th>0</th>\n",
       "      <td>2001</td>\n",
       "      <td>14.0</td>\n",
       "      <td>74.9</td>\n",
       "    </tr>\n",
       "    <tr>\n",
       "      <th>1</th>\n",
       "      <td>2002</td>\n",
       "      <td>13.5</td>\n",
       "      <td>93.0</td>\n",
       "    </tr>\n",
       "    <tr>\n",
       "      <th>2</th>\n",
       "      <td>2003</td>\n",
       "      <td>13.5</td>\n",
       "      <td>79.2</td>\n",
       "    </tr>\n",
       "    <tr>\n",
       "      <th>3</th>\n",
       "      <td>2004</td>\n",
       "      <td>13.4</td>\n",
       "      <td>92.2</td>\n",
       "    </tr>\n",
       "    <tr>\n",
       "      <th>4</th>\n",
       "      <td>2005</td>\n",
       "      <td>14.3</td>\n",
       "      <td>77.9</td>\n",
       "    </tr>\n",
       "  </tbody>\n",
       "</table>\n",
       "</div>"
      ],
      "text/plain": [
       "   year   avg_temp   yield\n",
       "0  2001       14.0    74.9\n",
       "1  2002       13.5    93.0\n",
       "2  2003       13.5    79.2\n",
       "3  2004       13.4    92.2\n",
       "4  2005       14.3    77.9"
      ]
     },
     "execution_count": 4,
     "metadata": {},
     "output_type": "execute_result"
    }
   ],
   "source": [
    "df = pd.read_csv(\"C:/Users/koyama/Downloads/応用統計1/simple_regression/RieslingYield_vs_avgTemp_no_comment.csv\",encoding = 'utf-8')\n",
    "df.head()"
   ]
  },
  {
   "cell_type": "code",
   "execution_count": null,
   "id": "34275129",
   "metadata": {},
   "outputs": [],
   "source": []
  }
 ],
 "metadata": {
  "kernelspec": {
   "display_name": "Python 3 (ipykernel)",
   "language": "python",
   "name": "python3"
  },
  "language_info": {
   "codemirror_mode": {
    "name": "ipython",
    "version": 3
   },
   "file_extension": ".py",
   "mimetype": "text/x-python",
   "name": "python",
   "nbconvert_exporter": "python",
   "pygments_lexer": "ipython3",
   "version": "3.9.13"
  }
 },
 "nbformat": 4,
 "nbformat_minor": 5
}
